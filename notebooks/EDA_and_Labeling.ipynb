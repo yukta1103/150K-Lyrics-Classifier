       {
"cells": [
 {
  "cell_type": "markdown",
  "metadata": {},
  "source": [
   "# EDA and Labeling\n",
   "\n",
   "Use this notebook to explore the dataset and run the labeling step interactively.\n"
  ]
 }
],
"metadata": {"kernelspec": {"display_name": "Python 3", "language": "python", "name": "python3"}, "language_info": {"name": "python"}},
"nbformat": 4,
"nbformat_minor": 2
}
